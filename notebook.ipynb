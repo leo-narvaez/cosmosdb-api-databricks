{
 "cells": [
  {
   "cell_type": "code",
   "execution_count": 0,
   "metadata": {
    "application/vnd.databricks.v1+cell": {
     "cellMetadata": {
      "byteLimit": 2048000,
      "rowLimit": 10000
     },
     "inputWidgets": {},
     "nuid": "0aa35aff-39a5-4738-a537-11bd3aebd535",
     "showTitle": false,
     "tableResultSettingsMap": {},
     "title": ""
    }
   },
   "outputs": [],
   "source": [
    "from pyspark.sql import SparkSession\n",
    "databasename = 'testingcosmosdb01' # cambiar por el nombre de tu base de datos\n",
    "collection = 'pruebadatabrickcosmosdb' # Cambiar por el nombre de tu colleccion\n"
   ]
  },
  {
   "cell_type": "code",
   "execution_count": 0,
   "metadata": {
    "application/vnd.databricks.v1+cell": {
     "cellMetadata": {
      "byteLimit": 2048000,
      "rowLimit": 10000
     },
     "inputWidgets": {},
     "nuid": "be9a00ab-3e2e-4d69-9e53-071b03e26744",
     "showTitle": false,
     "tableResultSettingsMap": {},
     "title": ""
    }
   },
   "outputs": [],
   "source": [
    "uri = \"<CONNECTION>&appName=Databricks\" # Usa tu URI\n",
    "\n",
    "spark = SparkSession.builder.appName(\"TestingApp\").config('spark.jars.packages', 'org.mongodb.spark:mongo-spark-connector_2.12:3.0.1').getOrCreate()"
   ]
  },
  {
   "cell_type": "code",
   "execution_count": 0,
   "metadata": {
    "application/vnd.databricks.v1+cell": {
     "cellMetadata": {
      "byteLimit": 2048000,
      "rowLimit": 10000
     },
     "inputWidgets": {},
     "nuid": "c495d1de-1efa-4c45-844e-d6eaa5f99ca2",
     "showTitle": false,
     "tableResultSettingsMap": {},
     "title": ""
    }
   },
   "outputs": [],
   "source": [
    "df = spark.read.format(\"com.mongodb.spark.sql.DefaultSource\") \\\n",
    "    .option(\"uri\", uri) \\\n",
    "    .option(\"database\", databasename) \\\n",
    "    .option(\"collection\", collection) \\\n",
    "    .load()"
   ]
  },
  {
   "cell_type": "code",
   "execution_count": 0,
   "metadata": {
    "application/vnd.databricks.v1+cell": {
     "cellMetadata": {
      "byteLimit": 2048000,
      "rowLimit": 10000
     },
     "inputWidgets": {},
     "nuid": "c7eb4fa3-3993-43c9-ab41-fa7b13d7fdf4",
     "showTitle": false,
     "tableResultSettingsMap": {},
     "title": ""
    }
   },
   "outputs": [
    {
     "name": "stdout",
     "output_type": "stream",
     "text": [
      "+--------------------+-------+--------+--------+-----------+-------------------+---------------+----------+\n",
      "|                 _id|   city|humidity|pressure|temperature|          timestamp|        weather|wind_speed|\n",
      "+--------------------+-------+--------+--------+-----------+-------------------+---------------+----------+\n",
      "|{67504d2d47392053...|Toronto|      79|    1016|      -0.51|2024-12-04 13:38:05|overcast clouds|     12.52|\n",
      "|{67504d42db4788cb...|Toronto|      80|    1014|      -0.65|2024-12-04 13:38:26|     light snow|     12.52|\n",
      "|{67504d59db4788cb...|Toronto|      80|    1014|      -0.65|2024-12-04 13:38:49|     light snow|     12.52|\n",
      "|{67504d70db4788cb...|Toronto|      80|    1014|      -0.65|2024-12-04 13:39:12|     light snow|     12.52|\n",
      "|{67504d84db4788cb...|Toronto|      80|    1014|      -0.65|2024-12-04 13:39:32|     light snow|     12.52|\n",
      "|{67504d9cdb4788cb...|Toronto|      80|    1014|      -0.65|2024-12-04 13:39:56|     light snow|     12.52|\n",
      "|{67504db3db4788cb...|Toronto|      80|    1014|       -0.6|2024-12-04 13:40:19|     light snow|     12.52|\n",
      "|{67504dc7db4788cb...|Toronto|      80|    1014|       -0.6|2024-12-04 13:40:39|     light snow|     12.52|\n",
      "|{67504ddedb4788cb...|Toronto|      80|    1014|       -0.6|2024-12-04 13:41:02|     light snow|     12.52|\n",
      "+--------------------+-------+--------+--------+-----------+-------------------+---------------+----------+\n",
      "\n"
     ]
    }
   ],
   "source": [
    "df.show()"
   ]
  },
  {
   "cell_type": "code",
   "execution_count": 0,
   "metadata": {
    "application/vnd.databricks.v1+cell": {
     "cellMetadata": {
      "byteLimit": 2048000,
      "rowLimit": 10000
     },
     "inputWidgets": {},
     "nuid": "fc3eaa63-27c3-43dd-9a9b-1dce49d5d3ce",
     "showTitle": false,
     "tableResultSettingsMap": {},
     "title": ""
    }
   },
   "outputs": [],
   "source": [
    "df.write.saveAsTable(\"PowerBITable\")"
   ]
  }
 ],
 "metadata": {
  "application/vnd.databricks.v1+notebook": {
   "dashboards": [],
   "environmentMetadata": {
    "base_environment": "",
    "client": "1"
   },
   "language": "python",
   "notebookMetadata": {
    "pythonIndentUnit": 4
   },
   "notebookName": "notebook",
   "widgets": {}
  },
  "language_info": {
   "name": "python"
  }
 },
 "nbformat": 4,
 "nbformat_minor": 0
}
